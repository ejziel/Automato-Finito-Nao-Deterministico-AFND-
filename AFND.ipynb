{
 "cells": [
  {
   "cell_type": "markdown",
   "metadata": {},
   "source": [
    "Este projeto consiste na implementação de um AFND (Autômato Finito Não-Determinístico)."
   ]
  },
  {
   "cell_type": "markdown",
   "metadata": {},
   "source": [
    "As primeiras entradas são os estados e símbolos do AFND que serão armazenados como uma lista, bem como o número de transições."
   ]
  },
  {
   "cell_type": "code",
   "execution_count": null,
   "metadata": {},
   "outputs": [],
   "source": [
    "states = input().split(\" \")\n",
    "symbols = input().split(\" \")\n",
    "transitions_number = int(input())"
   ]
  },
  {
   "cell_type": "markdown",
   "metadata": {},
   "source": [
    "A estrutura de dados escolhida para tabela que contém as transiçoes do AFND foi uma tabela hash (dictonary no Python), quearmazena um par chave valor e possui complexidade de busca média de O(1)."
   ]
  },
  {
   "cell_type": "code",
   "execution_count": null,
   "metadata": {},
   "outputs": [],
   "source": [
    "afd = {}"
   ]
  },
  {
   "cell_type": "markdown",
   "metadata": {},
   "source": [
    "Para cada estado na AFND foi criada uma chave na tabela hash recém criada."
   ]
  },
  {
   "cell_type": "code",
   "execution_count": null,
   "metadata": {},
   "outputs": [],
   "source": [
    "for state in states:\n",
    "    afd[state] = {}"
   ]
  },
  {
   "cell_type": "markdown",
   "metadata": {},
   "source": [
    "Em seguida foram adicinadas as entradas das transições para cada estado, sendo <o,c,d> uma tripla onde ‘o’ é o estado de origem, ‘c’ é o caractere e ‘d’ é o estado de destino. Como se trata de um AFND e cada transição pode levar pra 1 ou mais estados, estes foram armazenados como uma lista de estados."
   ]
  },
  {
   "cell_type": "code",
   "execution_count": null,
   "metadata": {},
   "outputs": [],
   "source": [
    "for i in range(0, transitions_number):\n",
    "    o, c, d = input().split(\" \")\n",
    "    if c not in afd[o]:\n",
    "        afd[o][c] = [d]\n",
    "    else:\n",
    "        afd[o][c].append(d)"
   ]
  },
  {
   "cell_type": "markdown",
   "metadata": {},
   "source": [
    "Demais entradas referentes a estado inicial e lista de estados finais que também será armazenado como uma dict, bem como palavras a serem reconhecidas."
   ]
  },
  {
   "cell_type": "code",
   "execution_count": null,
   "metadata": {},
   "outputs": [],
   "source": [
    "initial_state = input()\n",
    "final_states = input().split(\" \")\n",
    "worlds = input().split(\" \")\n",
    "\n",
    "final_states = {}\n",
    "for k in f_states:\n",
    "    final_states[k] = 1"
   ]
  },
  {
   "cell_type": "markdown",
   "metadata": {},
   "source": [
    "O algoritmo responsável por reconhecer ou não uma palavra a partir da especificação do AFND fornecida nos passos anteriores foi construído da seguinte forma:\n",
    "Cada palavra de entrada é percorrida através de um laço for, neste laço é criada uma lista de estados atuais, que a principio terá apenas o estado inicial. Para cada palavra são percorridos os caracteres da mesma, e para cada um dos estados atuais do sistema, armazenados na lista descrita anteriormente é feita a verificação das transições a partir do estado o, consumindo o caractere c e levando para n estados de destino d. É criada uma lista de novos estados atuais que ao final é atribuída como lista de estados atuais. Ao consumir toda palavra, a lista de estados atuais irá conter os estados possíveis para o AFDN ao consumir tal palavra. É feita a verificação se algum dos estados atuais é final, e caso seja, a palavra é aceita retornando S, e caso não retorna N."
   ]
  },
  {
   "cell_type": "code",
   "execution_count": null,
   "metadata": {},
   "outputs": [],
   "source": [
    "for word in worlds:\n",
    "    current_states = [initial_state]\n",
    "    final_state = 0\n",
    "\n",
    "    for char in word:\n",
    "        new_current_states = []\n",
    "        for state in current_states:\n",
    "            if(afd[state].get(char)):\n",
    "                for new_state in afd[state][char]:\n",
    "                    if(new_state not in new_current_states):\n",
    "                        new_current_states.append(new_state)\n",
    "        current_states = new_current_states\n",
    "\n",
    "    for state in current_states:\n",
    "        if(final_states.get(state)):\n",
    "            final_state = 1\n",
    "    if(final_state == 1):\n",
    "        print('S')\n",
    "    else:\n",
    "        print('N')"
   ]
  }
 ],
 "metadata": {
  "kernelspec": {
   "display_name": "Python 3",
   "language": "python",
   "name": "python3"
  },
  "language_info": {
   "codemirror_mode": {
    "name": "ipython",
    "version": 3
   },
   "file_extension": ".py",
   "mimetype": "text/x-python",
   "name": "python",
   "nbconvert_exporter": "python",
   "pygments_lexer": "ipython3",
   "version": "3.8.5"
  }
 },
 "nbformat": 4,
 "nbformat_minor": 4
}
